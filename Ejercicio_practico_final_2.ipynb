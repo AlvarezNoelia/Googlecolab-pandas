{
  "cells": [
    {
      "cell_type": "markdown",
      "metadata": {
        "id": "view-in-github",
        "colab_type": "text"
      },
      "source": [
        "<a href=\"https://colab.research.google.com/github/AlvarezNoelia/Googlecolab-pandas/blob/main/Ejercicio_practico_final_2.ipynb\" target=\"_parent\"><img src=\"https://colab.research.google.com/assets/colab-badge.svg\" alt=\"Open In Colab\"/></a>"
      ]
    },
    {
      "cell_type": "code",
      "execution_count": null,
      "id": "8af36ad1",
      "metadata": {
        "id": "8af36ad1"
      },
      "outputs": [],
      "source": [
        "import pandas as pd\n",
        "\n",
        "url = 'https://raw.githubusercontent.com/MainakRepositor/Datasets/master/Web%20Series.csv'\n",
        "df = pd.read_csv(url, index_col=0)\n"
      ]
    },
    {
      "cell_type": "code",
      "execution_count": null,
      "id": "ec7bd0e4",
      "metadata": {
        "scrolled": true,
        "id": "ec7bd0e4",
        "outputId": "272d7fc6-0c6d-40a2-f5fa-7d964ef47152"
      },
      "outputs": [
        {
          "data": {
            "text/html": [
              "<div>\n",
              "<style scoped>\n",
              "    .dataframe tbody tr th:only-of-type {\n",
              "        vertical-align: middle;\n",
              "    }\n",
              "\n",
              "    .dataframe tbody tr th {\n",
              "        vertical-align: top;\n",
              "    }\n",
              "\n",
              "    .dataframe thead th {\n",
              "        text-align: right;\n",
              "    }\n",
              "</style>\n",
              "<table border=\"1\" class=\"dataframe\">\n",
              "  <thead>\n",
              "    <tr style=\"text-align: right;\">\n",
              "      <th></th>\n",
              "      <th>Year Released</th>\n",
              "      <th>Content Rating</th>\n",
              "      <th>IMDB Rating</th>\n",
              "      <th>R Rating</th>\n",
              "      <th>Genre</th>\n",
              "      <th>Description</th>\n",
              "      <th>No of Seasons</th>\n",
              "      <th>Streaming Platform</th>\n",
              "    </tr>\n",
              "    <tr>\n",
              "      <th>Series Title</th>\n",
              "      <th></th>\n",
              "      <th></th>\n",
              "      <th></th>\n",
              "      <th></th>\n",
              "      <th></th>\n",
              "      <th></th>\n",
              "      <th></th>\n",
              "      <th></th>\n",
              "    </tr>\n",
              "  </thead>\n",
              "  <tbody>\n",
              "    <tr>\n",
              "      <th>Breaking Bad</th>\n",
              "      <td>2008</td>\n",
              "      <td>18+</td>\n",
              "      <td>9.5</td>\n",
              "      <td>100</td>\n",
              "      <td>Crime,Drama</td>\n",
              "      <td>When Walter White, a New Mexico chemistry teac...</td>\n",
              "      <td>5Seasons</td>\n",
              "      <td>Netflix</td>\n",
              "    </tr>\n",
              "    <tr>\n",
              "      <th>Game of Thrones</th>\n",
              "      <td>2011</td>\n",
              "      <td>18+</td>\n",
              "      <td>9.3</td>\n",
              "      <td>99</td>\n",
              "      <td>Action &amp; Adventure,Drama</td>\n",
              "      <td>Seven noble families fight for control of the ...</td>\n",
              "      <td>8Seasons</td>\n",
              "      <td>HBO MAX,HBO</td>\n",
              "    </tr>\n",
              "    <tr>\n",
              "      <th>Rick and Morty</th>\n",
              "      <td>2013</td>\n",
              "      <td>18+</td>\n",
              "      <td>9.2</td>\n",
              "      <td>97</td>\n",
              "      <td>Animation,Comedy</td>\n",
              "      <td>Rick is a mentally-unbalanced but scientifical...</td>\n",
              "      <td>4Seasons</td>\n",
              "      <td>Free Services,HBO MAX,Hulu</td>\n",
              "    </tr>\n",
              "    <tr>\n",
              "      <th>Stranger Things</th>\n",
              "      <td>2016</td>\n",
              "      <td>16+</td>\n",
              "      <td>8.8</td>\n",
              "      <td>96</td>\n",
              "      <td>Drama,Fantasy</td>\n",
              "      <td>When a young boy vanishes, a small town uncove...</td>\n",
              "      <td>3Seasons</td>\n",
              "      <td>Netflix</td>\n",
              "    </tr>\n",
              "    <tr>\n",
              "      <th>The Boys</th>\n",
              "      <td>2019</td>\n",
              "      <td>18+</td>\n",
              "      <td>8.7</td>\n",
              "      <td>95</td>\n",
              "      <td>Action &amp; Adventure,Comedy</td>\n",
              "      <td>A group of vigilantes known informally as “The...</td>\n",
              "      <td>2Seasons</td>\n",
              "      <td>Prime Video</td>\n",
              "    </tr>\n",
              "  </tbody>\n",
              "</table>\n",
              "</div>"
            ],
            "text/plain": [
              "                 Year Released Content Rating  IMDB Rating  R Rating  \\\n",
              "Series Title                                                           \n",
              "Breaking Bad              2008            18+          9.5       100   \n",
              "Game of Thrones           2011            18+          9.3        99   \n",
              "Rick and Morty            2013            18+          9.2        97   \n",
              "Stranger Things           2016            16+          8.8        96   \n",
              "The Boys                  2019            18+          8.7        95   \n",
              "\n",
              "                                     Genre  \\\n",
              "Series Title                                 \n",
              "Breaking Bad                   Crime,Drama   \n",
              "Game of Thrones   Action & Adventure,Drama   \n",
              "Rick and Morty            Animation,Comedy   \n",
              "Stranger Things              Drama,Fantasy   \n",
              "The Boys         Action & Adventure,Comedy   \n",
              "\n",
              "                                                       Description  \\\n",
              "Series Title                                                         \n",
              "Breaking Bad     When Walter White, a New Mexico chemistry teac...   \n",
              "Game of Thrones  Seven noble families fight for control of the ...   \n",
              "Rick and Morty   Rick is a mentally-unbalanced but scientifical...   \n",
              "Stranger Things  When a young boy vanishes, a small town uncove...   \n",
              "The Boys         A group of vigilantes known informally as “The...   \n",
              "\n",
              "                No of Seasons          Streaming Platform  \n",
              "Series Title                                               \n",
              "Breaking Bad         5Seasons                     Netflix  \n",
              "Game of Thrones      8Seasons                 HBO MAX,HBO  \n",
              "Rick and Morty       4Seasons  Free Services,HBO MAX,Hulu  \n",
              "Stranger Things      3Seasons                     Netflix  \n",
              "The Boys             2Seasons                 Prime Video  "
            ]
          },
          "execution_count": 9,
          "metadata": {},
          "output_type": "execute_result"
        }
      ],
      "source": [
        "df.head()"
      ]
    },
    {
      "cell_type": "code",
      "execution_count": null,
      "id": "4fa724e6",
      "metadata": {
        "id": "4fa724e6",
        "outputId": "102878f7-dbae-4db6-b00a-75fafa90873e"
      },
      "outputs": [
        {
          "data": {
            "text/html": [
              "<div>\n",
              "<style scoped>\n",
              "    .dataframe tbody tr th:only-of-type {\n",
              "        vertical-align: middle;\n",
              "    }\n",
              "\n",
              "    .dataframe tbody tr th {\n",
              "        vertical-align: top;\n",
              "    }\n",
              "\n",
              "    .dataframe thead th {\n",
              "        text-align: right;\n",
              "    }\n",
              "</style>\n",
              "<table border=\"1\" class=\"dataframe\">\n",
              "  <thead>\n",
              "    <tr style=\"text-align: right;\">\n",
              "      <th></th>\n",
              "      <th>Year Released</th>\n",
              "      <th>Content Rating</th>\n",
              "      <th>IMDB Rating</th>\n",
              "      <th>R Rating</th>\n",
              "      <th>Genre</th>\n",
              "      <th>Description</th>\n",
              "      <th>No of Seasons</th>\n",
              "      <th>Streaming Platform</th>\n",
              "    </tr>\n",
              "    <tr>\n",
              "      <th>Series Title</th>\n",
              "      <th></th>\n",
              "      <th></th>\n",
              "      <th></th>\n",
              "      <th></th>\n",
              "      <th></th>\n",
              "      <th></th>\n",
              "      <th></th>\n",
              "      <th></th>\n",
              "    </tr>\n",
              "  </thead>\n",
              "  <tbody>\n",
              "    <tr>\n",
              "      <th>A Fishing Story with Ronnie Green</th>\n",
              "      <td>2017</td>\n",
              "      <td>NaN</td>\n",
              "      <td>NaN</td>\n",
              "      <td>-1</td>\n",
              "      <td>2017,Prime Video</td>\n",
              "      <td>A Fishing Story with Ronnie Green has one or m...</td>\n",
              "      <td>2Seasons</td>\n",
              "      <td>Prime Video,fuboTV</td>\n",
              "    </tr>\n",
              "    <tr>\n",
              "      <th>CMT Most Shocking</th>\n",
              "      <td>2003</td>\n",
              "      <td>NaN</td>\n",
              "      <td>NaN</td>\n",
              "      <td>-1</td>\n",
              "      <td>-1</td>\n",
              "      <td>-1</td>\n",
              "      <td>-1</td>\n",
              "      <td>-1</td>\n",
              "    </tr>\n",
              "    <tr>\n",
              "      <th>NHL Road to the Outdoor Classics</th>\n",
              "      <td>2016</td>\n",
              "      <td>NaN</td>\n",
              "      <td>NaN</td>\n",
              "      <td>-1</td>\n",
              "      <td>2016,Prime Video</td>\n",
              "      <td>Road to the NHL Outdoor Classics takes us deep...</td>\n",
              "      <td>1Season</td>\n",
              "      <td>Prime Video,Epix</td>\n",
              "    </tr>\n",
              "    <tr>\n",
              "      <th>Addy Media</th>\n",
              "      <td>2018</td>\n",
              "      <td>NaN</td>\n",
              "      <td>NaN</td>\n",
              "      <td>-1</td>\n",
              "      <td>2018,Prime Video</td>\n",
              "      <td>Addy Media has one or more episodes streaming ...</td>\n",
              "      <td>1Season</td>\n",
              "      <td>Prime Video</td>\n",
              "    </tr>\n",
              "    <tr>\n",
              "      <th>My Dream Derelict Home</th>\n",
              "      <td>2014</td>\n",
              "      <td>NaN</td>\n",
              "      <td>NaN</td>\n",
              "      <td>-1</td>\n",
              "      <td>2014,Free Services</td>\n",
              "      <td>My Dream Derelict Home has one or more episode...</td>\n",
              "      <td>1Season</td>\n",
              "      <td>Free Services,Prime Video</td>\n",
              "    </tr>\n",
              "  </tbody>\n",
              "</table>\n",
              "</div>"
            ],
            "text/plain": [
              "                                   Year Released Content Rating  IMDB Rating  \\\n",
              "Series Title                                                                   \n",
              "A Fishing Story with Ronnie Green           2017            NaN          NaN   \n",
              "CMT Most Shocking                           2003            NaN          NaN   \n",
              "NHL Road to the Outdoor Classics            2016            NaN          NaN   \n",
              "Addy Media                                  2018            NaN          NaN   \n",
              "My Dream Derelict Home                      2014            NaN          NaN   \n",
              "\n",
              "                                   R Rating               Genre  \\\n",
              "Series Title                                                      \n",
              "A Fishing Story with Ronnie Green        -1    2017,Prime Video   \n",
              "CMT Most Shocking                        -1                  -1   \n",
              "NHL Road to the Outdoor Classics         -1    2016,Prime Video   \n",
              "Addy Media                               -1    2018,Prime Video   \n",
              "My Dream Derelict Home                   -1  2014,Free Services   \n",
              "\n",
              "                                                                         Description  \\\n",
              "Series Title                                                                           \n",
              "A Fishing Story with Ronnie Green  A Fishing Story with Ronnie Green has one or m...   \n",
              "CMT Most Shocking                                                                 -1   \n",
              "NHL Road to the Outdoor Classics   Road to the NHL Outdoor Classics takes us deep...   \n",
              "Addy Media                         Addy Media has one or more episodes streaming ...   \n",
              "My Dream Derelict Home             My Dream Derelict Home has one or more episode...   \n",
              "\n",
              "                                  No of Seasons         Streaming Platform  \n",
              "Series Title                                                                \n",
              "A Fishing Story with Ronnie Green      2Seasons         Prime Video,fuboTV  \n",
              "CMT Most Shocking                            -1                         -1  \n",
              "NHL Road to the Outdoor Classics        1Season           Prime Video,Epix  \n",
              "Addy Media                              1Season                Prime Video  \n",
              "My Dream Derelict Home                  1Season  Free Services,Prime Video  "
            ]
          },
          "execution_count": 10,
          "metadata": {},
          "output_type": "execute_result"
        }
      ],
      "source": [
        "df.tail()"
      ]
    },
    {
      "cell_type": "code",
      "execution_count": null,
      "id": "1aabd026",
      "metadata": {
        "id": "1aabd026",
        "outputId": "6179a020-3458-4d8c-f766-aa0498eb77e2"
      },
      "outputs": [
        {
          "data": {
            "text/plain": [
              "Year Released         12353\n",
              "Content Rating         7232\n",
              "IMDB Rating           10207\n",
              "R Rating              12353\n",
              "Genre                 12353\n",
              "Description           12353\n",
              "No of Seasons         12353\n",
              "Streaming Platform    10370\n",
              "dtype: int64"
            ]
          },
          "execution_count": 11,
          "metadata": {},
          "output_type": "execute_result"
        }
      ],
      "source": [
        "df.count()"
      ]
    },
    {
      "cell_type": "code",
      "execution_count": null,
      "id": "5bb3aa98",
      "metadata": {
        "id": "5bb3aa98",
        "outputId": "bc335cc1-4956-4f5a-fd2c-1af2c9c1f9a3"
      },
      "outputs": [
        {
          "name": "stdout",
          "output_type": "stream",
          "text": [
            "(12353, 8)\n"
          ]
        }
      ],
      "source": [
        "print(df.shape)"
      ]
    },
    {
      "cell_type": "code",
      "execution_count": null,
      "id": "379a62c2",
      "metadata": {
        "id": "379a62c2",
        "outputId": "fceee67d-0348-443b-d7ee-2b1d52e429d7"
      },
      "outputs": [
        {
          "name": "stdout",
          "output_type": "stream",
          "text": [
            "<class 'pandas.core.frame.DataFrame'>\n",
            "Index: 12353 entries, Breaking Bad to My Dream Derelict Home\n",
            "Data columns (total 8 columns):\n",
            " #   Column              Non-Null Count  Dtype  \n",
            "---  ------              --------------  -----  \n",
            " 0   Year Released       12353 non-null  int64  \n",
            " 1   Content Rating      7232 non-null   object \n",
            " 2   IMDB Rating         10207 non-null  float64\n",
            " 3   R Rating            12353 non-null  int64  \n",
            " 4   Genre               12353 non-null  object \n",
            " 5   Description         12353 non-null  object \n",
            " 6   No of Seasons       12353 non-null  object \n",
            " 7   Streaming Platform  10370 non-null  object \n",
            "dtypes: float64(1), int64(2), object(5)\n",
            "memory usage: 868.6+ KB\n"
          ]
        }
      ],
      "source": [
        "df.info()"
      ]
    },
    {
      "cell_type": "code",
      "execution_count": null,
      "id": "4dbc6944",
      "metadata": {
        "id": "4dbc6944",
        "outputId": "f6006d98-2b6a-444f-dd65-fe96541dc3bb"
      },
      "outputs": [
        {
          "data": {
            "text/plain": [
              "Year Released           int64\n",
              "Content Rating         object\n",
              "IMDB Rating           float64\n",
              "R Rating                int64\n",
              "Genre                  object\n",
              "Description            object\n",
              "No of Seasons          object\n",
              "Streaming Platform     object\n",
              "dtype: object"
            ]
          },
          "execution_count": 14,
          "metadata": {},
          "output_type": "execute_result"
        }
      ],
      "source": [
        "df.dtypes"
      ]
    },
    {
      "cell_type": "code",
      "execution_count": null,
      "id": "8ca2eec3",
      "metadata": {
        "id": "8ca2eec3",
        "outputId": "989a256e-9f04-44af-a60c-387691ae4f1d"
      },
      "outputs": [
        {
          "data": {
            "text/plain": [
              "pandas.core.frame.DataFrame"
            ]
          },
          "execution_count": 15,
          "metadata": {},
          "output_type": "execute_result"
        }
      ],
      "source": [
        "type(df)"
      ]
    },
    {
      "cell_type": "code",
      "execution_count": null,
      "id": "f496efd7",
      "metadata": {
        "id": "f496efd7",
        "outputId": "58ccba7b-9a1b-4d79-a821-d0a10659eba6"
      },
      "outputs": [
        {
          "name": "stdout",
          "output_type": "stream",
          "text": [
            "Index(['Year Released', 'Content Rating', 'IMDB Rating', 'R Rating', 'Genre',\n",
            "       'Description', 'No of Seasons', 'Streaming Platform'],\n",
            "      dtype='object')\n"
          ]
        }
      ],
      "source": [
        "print(df.columns)"
      ]
    },
    {
      "cell_type": "code",
      "execution_count": null,
      "id": "be23f942",
      "metadata": {
        "id": "be23f942"
      },
      "outputs": [],
      "source": [
        "columns_to_drop = ['No of Seasons']\n",
        "df.drop(columns_to_drop, axis = \"columns\", inplace = True)"
      ]
    },
    {
      "cell_type": "code",
      "execution_count": null,
      "id": "74ab32f7",
      "metadata": {
        "id": "74ab32f7",
        "outputId": "f6810fac-a11c-4525-fc96-3f40f849130e"
      },
      "outputs": [
        {
          "name": "stdout",
          "output_type": "stream",
          "text": [
            "(12353, 7)\n"
          ]
        }
      ],
      "source": [
        "print(df.shape)"
      ]
    },
    {
      "cell_type": "code",
      "execution_count": null,
      "id": "45371f02",
      "metadata": {
        "id": "45371f02"
      },
      "outputs": [],
      "source": [
        "df.fillna({'Content Rating': 0}, inplace = True)"
      ]
    },
    {
      "cell_type": "code",
      "execution_count": null,
      "id": "2425d26e",
      "metadata": {
        "id": "2425d26e",
        "outputId": "ca71436e-03b3-4a4d-fee7-36b64348541e"
      },
      "outputs": [
        {
          "data": {
            "text/plain": [
              "Year Released         12353\n",
              "Content Rating        12353\n",
              "IMDB Rating           10207\n",
              "R Rating              12353\n",
              "Genre                 12353\n",
              "Description           12353\n",
              "Streaming Platform    10370\n",
              "dtype: int64"
            ]
          },
          "execution_count": 20,
          "metadata": {},
          "output_type": "execute_result"
        }
      ],
      "source": [
        "df.count()"
      ]
    },
    {
      "cell_type": "code",
      "execution_count": null,
      "id": "5ba2c424",
      "metadata": {
        "id": "5ba2c424",
        "outputId": "819b4f08-cbdf-459b-8691-e77256b41af2"
      },
      "outputs": [
        {
          "data": {
            "text/html": [
              "<div>\n",
              "<style scoped>\n",
              "    .dataframe tbody tr th:only-of-type {\n",
              "        vertical-align: middle;\n",
              "    }\n",
              "\n",
              "    .dataframe tbody tr th {\n",
              "        vertical-align: top;\n",
              "    }\n",
              "\n",
              "    .dataframe thead th {\n",
              "        text-align: right;\n",
              "    }\n",
              "</style>\n",
              "<table border=\"1\" class=\"dataframe\">\n",
              "  <thead>\n",
              "    <tr style=\"text-align: right;\">\n",
              "      <th></th>\n",
              "      <th>Year Released</th>\n",
              "      <th>Content Rating</th>\n",
              "      <th>IMDB Rating</th>\n",
              "      <th>R Rating</th>\n",
              "      <th>Genre</th>\n",
              "      <th>Description</th>\n",
              "      <th>Streaming Platform</th>\n",
              "    </tr>\n",
              "    <tr>\n",
              "      <th>Series Title</th>\n",
              "      <th></th>\n",
              "      <th></th>\n",
              "      <th></th>\n",
              "      <th></th>\n",
              "      <th></th>\n",
              "      <th></th>\n",
              "      <th></th>\n",
              "    </tr>\n",
              "  </thead>\n",
              "  <tbody>\n",
              "    <tr>\n",
              "      <th>Bluey</th>\n",
              "      <td>2018</td>\n",
              "      <td>all</td>\n",
              "      <td>9.7</td>\n",
              "      <td>67</td>\n",
              "      <td>Animation,Family</td>\n",
              "      <td>Bluey is an inexhaustible six year-old Blue He...</td>\n",
              "      <td>Free Services,Disney+,fuboTV</td>\n",
              "    </tr>\n",
              "    <tr>\n",
              "      <th>Breaking Bad</th>\n",
              "      <td>2008</td>\n",
              "      <td>18+</td>\n",
              "      <td>9.5</td>\n",
              "      <td>100</td>\n",
              "      <td>Crime,Drama</td>\n",
              "      <td>When Walter White, a New Mexico chemistry teac...</td>\n",
              "      <td>Netflix</td>\n",
              "    </tr>\n",
              "    <tr>\n",
              "      <th>Planet Earth II</th>\n",
              "      <td>2016</td>\n",
              "      <td>all</td>\n",
              "      <td>9.5</td>\n",
              "      <td>86</td>\n",
              "      <td>Documentary,2016</td>\n",
              "      <td>David Attenborough presents a documentary seri...</td>\n",
              "      <td>BBC America</td>\n",
              "    </tr>\n",
              "    <tr>\n",
              "      <th>Malgudi Days</th>\n",
              "      <td>1987</td>\n",
              "      <td>all</td>\n",
              "      <td>9.5</td>\n",
              "      <td>63</td>\n",
              "      <td>Drama,Children</td>\n",
              "      <td>Malgudi Days is an Indian television series ba...</td>\n",
              "      <td>Prime Video</td>\n",
              "    </tr>\n",
              "    <tr>\n",
              "      <th>The Last Drive-in With Joe Bob Briggs</th>\n",
              "      <td>2018</td>\n",
              "      <td>18+</td>\n",
              "      <td>9.5</td>\n",
              "      <td>59</td>\n",
              "      <td>Comedy,Cult</td>\n",
              "      <td>The World’s Foremost Drive-in Movie Critic – a...</td>\n",
              "      <td>Shudder</td>\n",
              "    </tr>\n",
              "  </tbody>\n",
              "</table>\n",
              "</div>"
            ],
            "text/plain": [
              "                                       Year Released Content Rating  \\\n",
              "Series Title                                                          \n",
              "Bluey                                           2018            all   \n",
              "Breaking Bad                                    2008            18+   \n",
              "Planet Earth II                                 2016            all   \n",
              "Malgudi Days                                    1987            all   \n",
              "The Last Drive-in With Joe Bob Briggs           2018            18+   \n",
              "\n",
              "                                       IMDB Rating  R Rating  \\\n",
              "Series Title                                                   \n",
              "Bluey                                          9.7        67   \n",
              "Breaking Bad                                   9.5       100   \n",
              "Planet Earth II                                9.5        86   \n",
              "Malgudi Days                                   9.5        63   \n",
              "The Last Drive-in With Joe Bob Briggs          9.5        59   \n",
              "\n",
              "                                                  Genre  \\\n",
              "Series Title                                              \n",
              "Bluey                                  Animation,Family   \n",
              "Breaking Bad                                Crime,Drama   \n",
              "Planet Earth II                        Documentary,2016   \n",
              "Malgudi Days                             Drama,Children   \n",
              "The Last Drive-in With Joe Bob Briggs       Comedy,Cult   \n",
              "\n",
              "                                                                             Description  \\\n",
              "Series Title                                                                               \n",
              "Bluey                                  Bluey is an inexhaustible six year-old Blue He...   \n",
              "Breaking Bad                           When Walter White, a New Mexico chemistry teac...   \n",
              "Planet Earth II                        David Attenborough presents a documentary seri...   \n",
              "Malgudi Days                           Malgudi Days is an Indian television series ba...   \n",
              "The Last Drive-in With Joe Bob Briggs  The World’s Foremost Drive-in Movie Critic – a...   \n",
              "\n",
              "                                                 Streaming Platform  \n",
              "Series Title                                                         \n",
              "Bluey                                  Free Services,Disney+,fuboTV  \n",
              "Breaking Bad                                                Netflix  \n",
              "Planet Earth II                                         BBC America  \n",
              "Malgudi Days                                            Prime Video  \n",
              "The Last Drive-in With Joe Bob Briggs                       Shudder  "
            ]
          },
          "execution_count": 22,
          "metadata": {},
          "output_type": "execute_result"
        }
      ],
      "source": [
        "df.nlargest(5, 'IMDB Rating')"
      ]
    },
    {
      "cell_type": "code",
      "execution_count": null,
      "id": "4593041d",
      "metadata": {
        "id": "4593041d",
        "outputId": "b365075e-0fcb-49c6-ded0-3178ba386ff1"
      },
      "outputs": [
        {
          "data": {
            "text/html": [
              "<div>\n",
              "<style scoped>\n",
              "    .dataframe tbody tr th:only-of-type {\n",
              "        vertical-align: middle;\n",
              "    }\n",
              "\n",
              "    .dataframe tbody tr th {\n",
              "        vertical-align: top;\n",
              "    }\n",
              "\n",
              "    .dataframe thead th {\n",
              "        text-align: right;\n",
              "    }\n",
              "</style>\n",
              "<table border=\"1\" class=\"dataframe\">\n",
              "  <thead>\n",
              "    <tr style=\"text-align: right;\">\n",
              "      <th></th>\n",
              "      <th>Year Released</th>\n",
              "      <th>Content Rating</th>\n",
              "      <th>IMDB Rating</th>\n",
              "      <th>R Rating</th>\n",
              "      <th>Genre</th>\n",
              "      <th>Description</th>\n",
              "      <th>Streaming Platform</th>\n",
              "    </tr>\n",
              "    <tr>\n",
              "      <th>Series Title</th>\n",
              "      <th></th>\n",
              "      <th></th>\n",
              "      <th></th>\n",
              "      <th></th>\n",
              "      <th></th>\n",
              "      <th></th>\n",
              "      <th></th>\n",
              "    </tr>\n",
              "  </thead>\n",
              "  <tbody>\n",
              "    <tr>\n",
              "      <th>Breaking Bad</th>\n",
              "      <td>2008</td>\n",
              "      <td>18+</td>\n",
              "      <td>9.5</td>\n",
              "      <td>100</td>\n",
              "      <td>Crime,Drama</td>\n",
              "      <td>When Walter White, a New Mexico chemistry teac...</td>\n",
              "      <td>Netflix</td>\n",
              "    </tr>\n",
              "    <tr>\n",
              "      <th>Game of Thrones</th>\n",
              "      <td>2011</td>\n",
              "      <td>18+</td>\n",
              "      <td>9.3</td>\n",
              "      <td>99</td>\n",
              "      <td>Action &amp; Adventure,Drama</td>\n",
              "      <td>Seven noble families fight for control of the ...</td>\n",
              "      <td>HBO MAX,HBO</td>\n",
              "    </tr>\n",
              "    <tr>\n",
              "      <th>Rick and Morty</th>\n",
              "      <td>2013</td>\n",
              "      <td>18+</td>\n",
              "      <td>9.2</td>\n",
              "      <td>97</td>\n",
              "      <td>Animation,Comedy</td>\n",
              "      <td>Rick is a mentally-unbalanced but scientifical...</td>\n",
              "      <td>Free Services,HBO MAX,Hulu</td>\n",
              "    </tr>\n",
              "    <tr>\n",
              "      <th>Stranger Things</th>\n",
              "      <td>2016</td>\n",
              "      <td>16+</td>\n",
              "      <td>8.8</td>\n",
              "      <td>96</td>\n",
              "      <td>Drama,Fantasy</td>\n",
              "      <td>When a young boy vanishes, a small town uncove...</td>\n",
              "      <td>Netflix</td>\n",
              "    </tr>\n",
              "    <tr>\n",
              "      <th>The Boys</th>\n",
              "      <td>2019</td>\n",
              "      <td>18+</td>\n",
              "      <td>8.7</td>\n",
              "      <td>95</td>\n",
              "      <td>Action &amp; Adventure,Comedy</td>\n",
              "      <td>A group of vigilantes known informally as “The...</td>\n",
              "      <td>Prime Video</td>\n",
              "    </tr>\n",
              "    <tr>\n",
              "      <th>...</th>\n",
              "      <td>...</td>\n",
              "      <td>...</td>\n",
              "      <td>...</td>\n",
              "      <td>...</td>\n",
              "      <td>...</td>\n",
              "      <td>...</td>\n",
              "      <td>...</td>\n",
              "    </tr>\n",
              "    <tr>\n",
              "      <th>A Fishing Story with Ronnie Green</th>\n",
              "      <td>2017</td>\n",
              "      <td>0</td>\n",
              "      <td>NaN</td>\n",
              "      <td>-1</td>\n",
              "      <td>2017,Prime Video</td>\n",
              "      <td>A Fishing Story with Ronnie Green has one or m...</td>\n",
              "      <td>Prime Video,fuboTV</td>\n",
              "    </tr>\n",
              "    <tr>\n",
              "      <th>CMT Most Shocking</th>\n",
              "      <td>2003</td>\n",
              "      <td>0</td>\n",
              "      <td>NaN</td>\n",
              "      <td>-1</td>\n",
              "      <td>-1</td>\n",
              "      <td>-1</td>\n",
              "      <td>-1</td>\n",
              "    </tr>\n",
              "    <tr>\n",
              "      <th>NHL Road to the Outdoor Classics</th>\n",
              "      <td>2016</td>\n",
              "      <td>0</td>\n",
              "      <td>NaN</td>\n",
              "      <td>-1</td>\n",
              "      <td>2016,Prime Video</td>\n",
              "      <td>Road to the NHL Outdoor Classics takes us deep...</td>\n",
              "      <td>Prime Video,Epix</td>\n",
              "    </tr>\n",
              "    <tr>\n",
              "      <th>Addy Media</th>\n",
              "      <td>2018</td>\n",
              "      <td>0</td>\n",
              "      <td>NaN</td>\n",
              "      <td>-1</td>\n",
              "      <td>2018,Prime Video</td>\n",
              "      <td>Addy Media has one or more episodes streaming ...</td>\n",
              "      <td>Prime Video</td>\n",
              "    </tr>\n",
              "    <tr>\n",
              "      <th>My Dream Derelict Home</th>\n",
              "      <td>2014</td>\n",
              "      <td>0</td>\n",
              "      <td>NaN</td>\n",
              "      <td>-1</td>\n",
              "      <td>2014,Free Services</td>\n",
              "      <td>My Dream Derelict Home has one or more episode...</td>\n",
              "      <td>Free Services,Prime Video</td>\n",
              "    </tr>\n",
              "  </tbody>\n",
              "</table>\n",
              "<p>10972 rows × 7 columns</p>\n",
              "</div>"
            ],
            "text/plain": [
              "                                   Year Released Content Rating  IMDB Rating  \\\n",
              "Series Title                                                                   \n",
              "Breaking Bad                                2008            18+          9.5   \n",
              "Game of Thrones                             2011            18+          9.3   \n",
              "Rick and Morty                              2013            18+          9.2   \n",
              "Stranger Things                             2016            16+          8.8   \n",
              "The Boys                                    2019            18+          8.7   \n",
              "...                                          ...            ...          ...   \n",
              "A Fishing Story with Ronnie Green           2017              0          NaN   \n",
              "CMT Most Shocking                           2003              0          NaN   \n",
              "NHL Road to the Outdoor Classics            2016              0          NaN   \n",
              "Addy Media                                  2018              0          NaN   \n",
              "My Dream Derelict Home                      2014              0          NaN   \n",
              "\n",
              "                                   R Rating                      Genre  \\\n",
              "Series Title                                                             \n",
              "Breaking Bad                            100                Crime,Drama   \n",
              "Game of Thrones                          99   Action & Adventure,Drama   \n",
              "Rick and Morty                           97           Animation,Comedy   \n",
              "Stranger Things                          96              Drama,Fantasy   \n",
              "The Boys                                 95  Action & Adventure,Comedy   \n",
              "...                                     ...                        ...   \n",
              "A Fishing Story with Ronnie Green        -1           2017,Prime Video   \n",
              "CMT Most Shocking                        -1                         -1   \n",
              "NHL Road to the Outdoor Classics         -1           2016,Prime Video   \n",
              "Addy Media                               -1           2018,Prime Video   \n",
              "My Dream Derelict Home                   -1         2014,Free Services   \n",
              "\n",
              "                                                                         Description  \\\n",
              "Series Title                                                                           \n",
              "Breaking Bad                       When Walter White, a New Mexico chemistry teac...   \n",
              "Game of Thrones                    Seven noble families fight for control of the ...   \n",
              "Rick and Morty                     Rick is a mentally-unbalanced but scientifical...   \n",
              "Stranger Things                    When a young boy vanishes, a small town uncove...   \n",
              "The Boys                           A group of vigilantes known informally as “The...   \n",
              "...                                                                              ...   \n",
              "A Fishing Story with Ronnie Green  A Fishing Story with Ronnie Green has one or m...   \n",
              "CMT Most Shocking                                                                 -1   \n",
              "NHL Road to the Outdoor Classics   Road to the NHL Outdoor Classics takes us deep...   \n",
              "Addy Media                         Addy Media has one or more episodes streaming ...   \n",
              "My Dream Derelict Home             My Dream Derelict Home has one or more episode...   \n",
              "\n",
              "                                           Streaming Platform  \n",
              "Series Title                                                   \n",
              "Breaking Bad                                          Netflix  \n",
              "Game of Thrones                                   HBO MAX,HBO  \n",
              "Rick and Morty                     Free Services,HBO MAX,Hulu  \n",
              "Stranger Things                                       Netflix  \n",
              "The Boys                                          Prime Video  \n",
              "...                                                       ...  \n",
              "A Fishing Story with Ronnie Green          Prime Video,fuboTV  \n",
              "CMT Most Shocking                                          -1  \n",
              "NHL Road to the Outdoor Classics             Prime Video,Epix  \n",
              "Addy Media                                        Prime Video  \n",
              "My Dream Derelict Home              Free Services,Prime Video  \n",
              "\n",
              "[10972 rows x 7 columns]"
            ]
          },
          "execution_count": 24,
          "metadata": {},
          "output_type": "execute_result"
        }
      ],
      "source": [
        "df[df['Year Released']>2000]\n"
      ]
    },
    {
      "cell_type": "code",
      "execution_count": null,
      "id": "662a9170",
      "metadata": {
        "id": "662a9170",
        "outputId": "2d95a562-ccb3-4715-c6a7-bed2eef18a71"
      },
      "outputs": [
        {
          "data": {
            "text/plain": [
              "Netflix          1427\n",
              "Free Services    1277\n",
              "Prime Video      1184\n",
              "Hulu              665\n",
              "-1                479\n",
              "Name: Streaming Platform, dtype: int64"
            ]
          },
          "execution_count": 26,
          "metadata": {},
          "output_type": "execute_result"
        }
      ],
      "source": [
        "df['Streaming Platform'].value_counts().head(5)"
      ]
    },
    {
      "cell_type": "raw",
      "id": "9116bfb8",
      "metadata": {
        "id": "9116bfb8"
      },
      "source": []
    },
    {
      "cell_type": "code",
      "execution_count": null,
      "id": "42407316",
      "metadata": {
        "scrolled": true,
        "id": "42407316",
        "outputId": "07b3f077-6975-48a2-dfbf-30c996f3d362"
      },
      "outputs": [
        {
          "data": {
            "text/plain": [
              "<Axes: >"
            ]
          },
          "execution_count": 27,
          "metadata": {},
          "output_type": "execute_result"
        },
        {
          "data": {
            "image/png": "[encoded data removed]",
            "text/plain": [
              "<Figure size 640x480 with 1 Axes>"
            ]
          },
          "metadata": {},
          "output_type": "display_data"
        }
      ],
      "source": [
        "df['Streaming Platform'].value_counts().head(5).plot(kind='bar')"
      ]
    },
    {
      "cell_type": "code",
      "execution_count": null,
      "id": "df799adf",
      "metadata": {
        "id": "df799adf",
        "outputId": "5e15f124-b3d9-496b-cc99-472529be0693"
      },
      "outputs": [
        {
          "data": {
            "text/plain": [
              "<Axes: ylabel='Streaming Platform'>"
            ]
          },
          "execution_count": 34,
          "metadata": {},
          "output_type": "execute_result"
        },
        {
          "data": {
            "image/png": "[encoded data removed]",
            "text/plain": [
              "<Figure size 640x480 with 1 Axes>"
            ]
          },
          "metadata": {},
          "output_type": "display_data"
        }
      ],
      "source": [
        "df['Streaming Platform'].value_counts().head(5).plot(kind='pie')"
      ]
    },
    {
      "cell_type": "code",
      "execution_count": null,
      "id": "0413c5e9",
      "metadata": {
        "id": "0413c5e9",
        "outputId": "024fc24a-32b3-4e5e-9ace-beb22df2490c"
      },
      "outputs": [
        {
          "data": {
            "text/html": [
              "<div>\n",
              "<style scoped>\n",
              "    .dataframe tbody tr th:only-of-type {\n",
              "        vertical-align: middle;\n",
              "    }\n",
              "\n",
              "    .dataframe tbody tr th {\n",
              "        vertical-align: top;\n",
              "    }\n",
              "\n",
              "    .dataframe thead th {\n",
              "        text-align: right;\n",
              "    }\n",
              "</style>\n",
              "<table border=\"1\" class=\"dataframe\">\n",
              "  <thead>\n",
              "    <tr style=\"text-align: right;\">\n",
              "      <th></th>\n",
              "      <th>Year Released</th>\n",
              "      <th>IMDB Rating</th>\n",
              "      <th>R Rating</th>\n",
              "    </tr>\n",
              "  </thead>\n",
              "  <tbody>\n",
              "    <tr>\n",
              "      <th>count</th>\n",
              "      <td>12353.000000</td>\n",
              "      <td>10207.000000</td>\n",
              "      <td>12353.000000</td>\n",
              "    </tr>\n",
              "    <tr>\n",
              "      <th>mean</th>\n",
              "      <td>2010.495345</td>\n",
              "      <td>6.973156</td>\n",
              "      <td>43.982029</td>\n",
              "    </tr>\n",
              "    <tr>\n",
              "      <th>std</th>\n",
              "      <td>11.240943</td>\n",
              "      <td>1.149726</td>\n",
              "      <td>20.660914</td>\n",
              "    </tr>\n",
              "    <tr>\n",
              "      <th>min</th>\n",
              "      <td>1901.000000</td>\n",
              "      <td>1.000000</td>\n",
              "      <td>-1.000000</td>\n",
              "    </tr>\n",
              "    <tr>\n",
              "      <th>25%</th>\n",
              "      <td>2009.000000</td>\n",
              "      <td>6.400000</td>\n",
              "      <td>33.000000</td>\n",
              "    </tr>\n",
              "    <tr>\n",
              "      <th>50%</th>\n",
              "      <td>2014.000000</td>\n",
              "      <td>7.200000</td>\n",
              "      <td>46.000000</td>\n",
              "    </tr>\n",
              "    <tr>\n",
              "      <th>75%</th>\n",
              "      <td>2017.000000</td>\n",
              "      <td>7.800000</td>\n",
              "      <td>58.000000</td>\n",
              "    </tr>\n",
              "    <tr>\n",
              "      <th>max</th>\n",
              "      <td>2020.000000</td>\n",
              "      <td>9.700000</td>\n",
              "      <td>100.000000</td>\n",
              "    </tr>\n",
              "  </tbody>\n",
              "</table>\n",
              "</div>"
            ],
            "text/plain": [
              "       Year Released   IMDB Rating      R Rating\n",
              "count   12353.000000  10207.000000  12353.000000\n",
              "mean     2010.495345      6.973156     43.982029\n",
              "std        11.240943      1.149726     20.660914\n",
              "min      1901.000000      1.000000     -1.000000\n",
              "25%      2009.000000      6.400000     33.000000\n",
              "50%      2014.000000      7.200000     46.000000\n",
              "75%      2017.000000      7.800000     58.000000\n",
              "max      2020.000000      9.700000    100.000000"
            ]
          },
          "execution_count": 28,
          "metadata": {},
          "output_type": "execute_result"
        }
      ],
      "source": [
        "df.describe()"
      ]
    },
    {
      "cell_type": "code",
      "execution_count": null,
      "id": "5553e5ee",
      "metadata": {
        "id": "5553e5ee",
        "outputId": "282d9bb9-efb9-4f20-ecff-b23f6bd9d726"
      },
      "outputs": [
        {
          "data": {
            "text/html": [
              "<div>\n",
              "<style scoped>\n",
              "    .dataframe tbody tr th:only-of-type {\n",
              "        vertical-align: middle;\n",
              "    }\n",
              "\n",
              "    .dataframe tbody tr th {\n",
              "        vertical-align: top;\n",
              "    }\n",
              "\n",
              "    .dataframe thead th {\n",
              "        text-align: right;\n",
              "    }\n",
              "</style>\n",
              "<table border=\"1\" class=\"dataframe\">\n",
              "  <thead>\n",
              "    <tr style=\"text-align: right;\">\n",
              "      <th></th>\n",
              "      <th>count</th>\n",
              "      <th>mean</th>\n",
              "      <th>std</th>\n",
              "      <th>min</th>\n",
              "      <th>25%</th>\n",
              "      <th>50%</th>\n",
              "      <th>75%</th>\n",
              "      <th>max</th>\n",
              "    </tr>\n",
              "  </thead>\n",
              "  <tbody>\n",
              "    <tr>\n",
              "      <th>Year Released</th>\n",
              "      <td>12353.0</td>\n",
              "      <td>2010.495345</td>\n",
              "      <td>11.240943</td>\n",
              "      <td>1901.0</td>\n",
              "      <td>2009.0</td>\n",
              "      <td>2014.0</td>\n",
              "      <td>2017.0</td>\n",
              "      <td>2020.0</td>\n",
              "    </tr>\n",
              "    <tr>\n",
              "      <th>IMDB Rating</th>\n",
              "      <td>10207.0</td>\n",
              "      <td>6.973156</td>\n",
              "      <td>1.149726</td>\n",
              "      <td>1.0</td>\n",
              "      <td>6.4</td>\n",
              "      <td>7.2</td>\n",
              "      <td>7.8</td>\n",
              "      <td>9.7</td>\n",
              "    </tr>\n",
              "    <tr>\n",
              "      <th>R Rating</th>\n",
              "      <td>12353.0</td>\n",
              "      <td>43.982029</td>\n",
              "      <td>20.660914</td>\n",
              "      <td>-1.0</td>\n",
              "      <td>33.0</td>\n",
              "      <td>46.0</td>\n",
              "      <td>58.0</td>\n",
              "      <td>100.0</td>\n",
              "    </tr>\n",
              "  </tbody>\n",
              "</table>\n",
              "</div>"
            ],
            "text/plain": [
              "                 count         mean        std     min     25%     50%  \\\n",
              "Year Released  12353.0  2010.495345  11.240943  1901.0  2009.0  2014.0   \n",
              "IMDB Rating    10207.0     6.973156   1.149726     1.0     6.4     7.2   \n",
              "R Rating       12353.0    43.982029  20.660914    -1.0    33.0    46.0   \n",
              "\n",
              "                  75%     max  \n",
              "Year Released  2017.0  2020.0  \n",
              "IMDB Rating       7.8     9.7  \n",
              "R Rating         58.0   100.0  "
            ]
          },
          "execution_count": 29,
          "metadata": {},
          "output_type": "execute_result"
        }
      ],
      "source": [
        "df.describe().T"
      ]
    },
    {
      "cell_type": "code",
      "execution_count": null,
      "id": "765aeab3",
      "metadata": {
        "id": "765aeab3",
        "outputId": "cde1e190-a56b-4a21-d7d2-d2500c4cb61a"
      },
      "outputs": [
        {
          "data": {
            "text/plain": [
              "Series Title\n",
              "Breaking Bad                         False\n",
              "Game of Thrones                      False\n",
              "Rick and Morty                       False\n",
              "Stranger Things                      False\n",
              "The Boys                             False\n",
              "                                     ...  \n",
              "A Fishing Story with Ronnie Green    False\n",
              "CMT Most Shocking                     True\n",
              "NHL Road to the Outdoor Classics     False\n",
              "Addy Media                           False\n",
              "My Dream Derelict Home               False\n",
              "Length: 12353, dtype: bool"
            ]
          },
          "execution_count": 30,
          "metadata": {},
          "output_type": "execute_result"
        }
      ],
      "source": [
        "df.duplicated()"
      ]
    },
    {
      "cell_type": "code",
      "execution_count": null,
      "id": "11debac6",
      "metadata": {
        "id": "11debac6"
      },
      "outputs": [],
      "source": [
        "df.drop_duplicates(inplace = True)"
      ]
    },
    {
      "cell_type": "code",
      "execution_count": null,
      "id": "c2d5e02d",
      "metadata": {
        "id": "c2d5e02d",
        "outputId": "3024a5d1-9a97-416c-b7e7-f5b07bc65805"
      },
      "outputs": [
        {
          "data": {
            "text/plain": [
              "Series Title\n",
              "Breaking Bad                         False\n",
              "Game of Thrones                      False\n",
              "Rick and Morty                       False\n",
              "Stranger Things                      False\n",
              "The Boys                             False\n",
              "                                     ...  \n",
              "Get Ready For The UFC                False\n",
              "A Fishing Story with Ronnie Green    False\n",
              "NHL Road to the Outdoor Classics     False\n",
              "Addy Media                           False\n",
              "My Dream Derelict Home               False\n",
              "Length: 12027, dtype: bool"
            ]
          },
          "execution_count": 32,
          "metadata": {},
          "output_type": "execute_result"
        }
      ],
      "source": [
        "df.duplicated()"
      ]
    }
  ],
  "metadata": {
    "kernelspec": {
      "display_name": "Python 3 (ipykernel)",
      "language": "python",
      "name": "python3"
    },
    "language_info": {
      "codemirror_mode": {
        "name": "ipython",
        "version": 3
      },
      "file_extension": ".py",
      "mimetype": "text/x-python",
      "name": "python",
      "nbconvert_exporter": "python",
      "pygments_lexer": "ipython3",
      "version": "3.11.3"
    },
    "colab": {
      "provenance": [],
      "include_colab_link": true
    }
  },
  "nbformat": 4,
  "nbformat_minor": 5
}